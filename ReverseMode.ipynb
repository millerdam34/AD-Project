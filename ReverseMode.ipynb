{
 "cells": [
  {
   "cell_type": "markdown",
   "id": "cc3e2a5f-7df0-431c-80a8-578d792db912",
   "metadata": {},
   "source": [
    "# Reverse mode AD"
   ]
  },
  {
   "cell_type": "code",
   "execution_count": 1,
   "id": "6a17224d-96b2-4fe6-9a67-11c999f0e9b7",
   "metadata": {},
   "outputs": [],
   "source": [
    "mutable struct Node\n",
    "    val::Float64\n",
    "    # parent index\n",
    "    par1::Int64\n",
    "    par2::Int64\n",
    "    # adjoint ∂f/∂v\n",
    "    adj::Float64\n",
    "    der1::Float64\n",
    "    der2::Float64\n",
    "    index::Int64\n",
    "end\n",
    "\n",
    "mutable struct Tape\n",
    "    tape::Vector{Node}\n",
    "    size::Int64\n",
    "end"
   ]
  },
  {
   "cell_type": "code",
   "execution_count": 2,
   "id": "e2b59408-b1fc-4272-83bb-629e36da75a4",
   "metadata": {},
   "outputs": [],
   "source": [
    "# overloading basic commands\n",
    "Base.:log(f::Node) = log_AD(f, tape)\n",
    "Base.:*(f::Node, g::Node) = mult_AD(f,g, tape)\n",
    "Base.:*(n::Integer, f::Node) = scalar_mult_AD(n,f, tape)\n",
    "Base.:sin(f::Node) = sin_AD(f, tape)\n",
    "Base.:+(f::Node, g::Node) = add_AD(f,g, tape)\n",
    "Base.:-(f::Node,g::Node) = sub_AD(f,g, tape)\n",
    "Base.:/(f::Node,g::Node) = divide_AD(f,g, tape)\n",
    "\n",
    "# Define exponential function for node data type\n",
    "Base.:exp(f::Node) = exp_AD(f,tape)"
   ]
  },
  {
   "cell_type": "code",
   "execution_count": 3,
   "id": "12598deb-9770-4251-9704-ac130ecc4f14",
   "metadata": {},
   "outputs": [
    {
     "data": {
      "text/plain": [
       "exp_AD (generic function with 1 method)"
      ]
     },
     "execution_count": 3,
     "metadata": {},
     "output_type": "execute_result"
    }
   ],
   "source": [
    "# here are the actual funtions\n",
    "function log_AD(f::Node, tape)::Node\n",
    "    ans = Node(log(f.val), f.index, -1, 0, 1/f.val, 0, tape.size)\n",
    "    tape.tape[tape.size] = ans\n",
    "    tape.size += 1\n",
    "    return ans\n",
    "end\n",
    "\n",
    "function mult_AD(f::Node, g::Node, tape)::Node\n",
    "    ans = Node(f.val * g.val, f.index, g.index, 0, g.val, f.val, tape.size)\n",
    "    tape.tape[tape.size] = ans\n",
    "    tape.size += 1\n",
    "    return ans\n",
    "end\n",
    "\n",
    "function scalar_mult_AD(n::Integer, f::Node, tape)::Node\n",
    "    ans = Node(n*f.val, f.index, -1, 0, n, 0, tape.size)\n",
    "    tape.tape[tape.size] = ans\n",
    "    tape.size += 1\n",
    "    return ans\n",
    "end\n",
    "\n",
    "function divide_AD(f::Node, g::Node, tape)::Node\n",
    "    ans = Node(f.val / g.val, f.index, g.index, 0, 1/g.val, -f.val/(g.val)^2, tape.size)\n",
    "    tape.tape[tape.size] = ans\n",
    "    tape.size += 1\n",
    "    return ans\n",
    "end\n",
    "\n",
    "function sin_AD(f::Node, tape)::Node\n",
    "    ans = Node(sin(f.val), f.index, -1, 0, cos(f.val), 0, tape.size)\n",
    "    tape.tape[tape.size] = ans\n",
    "    tape.size += 1\n",
    "    return ans\n",
    "end\n",
    "\n",
    "function add_AD(f::Node, g::Node, tape)\n",
    "    ans = Node(f.val + g.val, f.index, g.index, 0, 1, 1, tape.size)\n",
    "    tape.tape[tape.size] = ans\n",
    "    tape.size += 1\n",
    "    return ans\n",
    "end\n",
    "\n",
    "function sub_AD(f::Node, g::Node, tape)\n",
    "    ans = Node(f.val - g.val, f.index, g.index, 0, 1, -1, tape.size)\n",
    "    tape.tape[tape.size] = ans\n",
    "    tape.size += 1\n",
    "    return ans\n",
    "end\n",
    "\n",
    "function exp_AD(f::Node,tape)::Node\n",
    "    ans = Node(exp(f.val),f.index,-1,0,exp(f.val),0,tape.size)\n",
    "    tape.tape[tape.size] = ans\n",
    "    tape.size += 1\n",
    "    return ans\n",
    "end\n",
    "    "
   ]
  },
  {
   "cell_type": "code",
   "execution_count": 4,
   "id": "e73ff046-d979-4b85-8bbe-3edafaef9e29",
   "metadata": {},
   "outputs": [
    {
     "data": {
      "text/plain": [
       "rewind (generic function with 1 method)"
      ]
     },
     "execution_count": 4,
     "metadata": {},
     "output_type": "execute_result"
    }
   ],
   "source": [
    "function rewind(tape::Tape)\n",
    "    tape.tape[tape.size - 1].adj = 1\n",
    "    for i in tape.size-1:-1:1\n",
    "        if (tape.tape[i].par1 != -1)\n",
    "            tape.tape[tape.tape[i].par1].adj += tape.tape[i].adj * tape.tape[i].der1\n",
    "        end\n",
    "        if (tape.tape[i].par2 != -1)\n",
    "            tape.tape[tape.tape[i].par2].adj += tape.tape[i].adj * tape.tape[i].der2\n",
    "        end\n",
    "    end\n",
    "end"
   ]
  },
  {
   "cell_type": "code",
   "execution_count": 10,
   "id": "e9ceeeac-6402-4de6-9bf5-a871b99dbf36",
   "metadata": {},
   "outputs": [
    {
     "ename": "LoadError",
     "evalue": "syntax: missing comma or ) in argument list",
     "output_type": "error",
     "traceback": [
      "syntax: missing comma or ) in argument list",
      "",
      "Stacktrace:",
      " [1] top-level scope",
      "   @ In[10]:34",
      " [2] eval",
      "   @ ./boot.jl:360 [inlined]",
      " [3] include_string(mapexpr::typeof(REPL.softscope), mod::Module, code::String, filename::String)",
      "   @ Base ./loading.jl:1094"
     ]
    }
   ],
   "source": [
    "# initializing variables\n",
    "x_1 = Node(1.0, -1.0, -1.0, 0.0, 0.0, 0.0, 1)\n",
    "x_2 = Node(2.0, -1.0, -1.0, 0.0, 0.0, 0.0, 2)\n",
    "x_3 = Node(3.0, -1.0, -1.0, 0.0, 0.0, 0.0, 3)\n",
    "\n",
    "# initialize tape\n",
    "x = 10\n",
    "size = 1\n",
    "tape = Tape(Array{Node,1}(undef, x), size)\n",
    "\n",
    "# storing numbers in tape\n",
    "tape.tape[tape.size] = x_1\n",
    "tape.size += 1\n",
    "tape.tape[tape.size] = x_2\n",
    "tape.size += 1\n",
    "tape.tape[tape.size] = x_3\n",
    "tape.size += 1\n",
    "\n",
    "# here is the function\n",
    "#y=log(x_1)+x_1*x_2-sin(x_2)\n",
    "y = ( x_1*x_2*sin(x_3) + exp(x_1*x_2) ) / x_3\n",
    "#\n",
    "# y = exp(2*x_1)\n",
    "\n",
    "# rewind tape to find adjoints\n",
    "rewind(tape)\n",
    "\n",
    "# here are the partial derivatives\n",
    "# ∂y/∂x_1 = x2 * sin(x3)/x3 + exp(x1 * x2) * x2/x3\n",
    "println(\"from AD\")\n",
    "println(tape.tape[1].adj)\n",
    "println(\"true\")\n",
    "println(2*sin(3)/3 + exp(1*2) * 2/ 3)\n",
    "    \n",
    "# ∂y/∂x_2  = x1*sin(x3) + exp(x1*x2)*x1/x3\n",
    "println(\"from AD\")\n",
    "println(tape.tape[2].adj)\n",
    "println(\"true\")\n",
    "println(1*sin(3)/3 + exp(1*2) * 1/ 3)\n",
    "\n",
    "# ∂y/∂x_3  = x1*x2*(cos(x3)*x3 - sin(X3))/x3 - exp(x1*x2)/x3^2\n",
    "println(tape.tape[3].adj)"
   ]
  },
  {
   "cell_type": "code",
   "execution_count": 6,
   "id": "94517673-f2da-4dc8-b42b-d849c63b540a",
   "metadata": {},
   "outputs": [
    {
     "data": {
      "text/plain": [
       "5.208277415406835"
      ]
     },
     "execution_count": 6,
     "metadata": {},
     "output_type": "execute_result"
    }
   ],
   "source": [
    "#df/dx1\n",
    "2*sin(3) + exp(1*2) * 2/ 3"
   ]
  },
  {
   "cell_type": "code",
   "execution_count": 7,
   "id": "b3bad05c-56c2-4965-b45d-ec2fbd0f7497",
   "metadata": {},
   "outputs": [
    {
     "data": {
      "text/plain": [
       "2.6041387077034175"
      ]
     },
     "execution_count": 7,
     "metadata": {},
     "output_type": "execute_result"
    }
   ],
   "source": [
    "#df/dx2\n",
    "1*sin(3) + exp(1*2) * 1/ 3"
   ]
  },
  {
   "cell_type": "code",
   "execution_count": 8,
   "id": "29e84d51-e657-432e-81ee-f39ee8632236",
   "metadata": {},
   "outputs": [
    {
     "data": {
      "text/plain": [
       "-2.8009912264154075"
      ]
     },
     "execution_count": 8,
     "metadata": {},
     "output_type": "execute_result"
    }
   ],
   "source": [
    "#df/dx2\n",
    "1*2*cos(3) -  exp(1*2)/3^2"
   ]
  },
  {
   "cell_type": "markdown",
   "id": "37e9f5dc-bdef-45ec-94f5-0393c77319b7",
   "metadata": {},
   "source": [
    "Doesn't seem to match"
   ]
  },
  {
   "cell_type": "code",
   "execution_count": 9,
   "id": "75e11ac9-9b44-4983-a8f4-b13a4c9a5934",
   "metadata": {},
   "outputs": [
    {
     "ename": "LoadError",
     "evalue": "BoundsError: attempt to access 10-element Vector{Node} at index [11]",
     "output_type": "error",
     "traceback": [
      "BoundsError: attempt to access 10-element Vector{Node} at index [11]",
      "",
      "Stacktrace:",
      " [1] setindex!",
      "   @ ./array.jl:839 [inlined]",
      " [2] scalar_mult_AD(n::Int64, f::Node, tape::Tape)",
      "   @ Main ./In[3]:18",
      " [3] *(n::Int64, f::Node)",
      "   @ Main ./In[2]:4",
      " [4] top-level scope",
      "   @ In[9]:8",
      " [5] eval",
      "   @ ./boot.jl:360 [inlined]",
      " [6] include_string(mapexpr::typeof(REPL.softscope), mod::Module, code::String, filename::String)",
      "   @ Base ./loading.jl:1094"
     ]
    }
   ],
   "source": [
    "# initializing variables\n",
    "x_1 = Node(2.0, -1.0, -1.0, 0.0, 0.0, 0.0, 1)\n",
    "\n",
    "# initialize tape\n",
    "x = 15\n",
    "size = 1\n",
    "tape2 = Tape(Array{Node,1}(undef, x), size)\n",
    "y = exp(3*x_1)\n",
    "\n",
    "# rewind tape to find adjoints\n",
    "rewind(tape2)\n",
    "\n",
    "# here are the partial derivatives\n",
    "# ∂y/∂x_1 = 2*exp(x1)\n",
    "println(\"AD computation: \")\n",
    "println(tape2.tape[1].adj)\n",
    "\n",
    "print(\"true derivative\")\n",
    "println(3*exp(2))\n",
    "\n"
   ]
  },
  {
   "cell_type": "code",
   "execution_count": null,
   "id": "eedd41fc-95e3-44bb-be16-53bd7451ecdb",
   "metadata": {},
   "outputs": [],
   "source": []
  }
 ],
 "metadata": {
  "kernelspec": {
   "display_name": "Julia 1.6.1",
   "language": "julia",
   "name": "julia-1.6"
  },
  "language_info": {
   "file_extension": ".jl",
   "mimetype": "application/julia",
   "name": "julia",
   "version": "1.6.1"
  }
 },
 "nbformat": 4,
 "nbformat_minor": 5
}
